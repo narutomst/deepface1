{
 "cells": [
  {
   "cell_type": "code",
   "execution_count": 5,
   "metadata": {},
   "outputs": [],
   "source": [
    "import cv2\n",
    "import numpy as np\n",
    "def cv_show(name, image):\n",
    " cv2.imshow(name, image)\n",
    " \n",
    " cv2.waitKey(0)\n",
    " cv2.destroyAllWindows()\n",
    " \n",
    "def detectAndDescribe(image):\n",
    "    # 将彩色图片转换成灰度图\n",
    "    gray = cv2.cvtColor(image, cv2.COLOR_BGR2GRAY)\n",
    "    # 建立SIFT生成器\n",
    "    descriptor = cv2.SIFT_create()\n",
    "    # 检测SIFT特征点，并计算描述子\n",
    "    (kps, features) = descriptor.detectAndCompute(image, None)\n",
    "    # 将结果转换成NumPy数组\n",
    "    kps = np.float32([kp.pt for kp in kps])\n",
    "    # 返回特征点集，及对应的描述特征\n",
    "    return (kps, features)\n",
    "def matchKeypoints(kpsA, kpsB, featuresA, featuresB, ratio = 0.75, reprojThresh = 4.0):\n",
    "    # 建立暴力匹配器\n",
    "    matcher = cv2.BFMatcher()\n",
    "    # 使用KNN检测来自A、B图的SIFT特征匹配对，K=2\n",
    "    rawMatches = matcher.knnMatch(featuresA, featuresB, 2)\n",
    "    matches = []\n",
    "    for m in rawMatches:\n",
    "        # 当最近距离跟次近距离的比值小于ratio值时，保留此匹配对\n",
    "        if len(m) == 2 and m[0].distance < m[1].distance * ratio:\n",
    "        # 存储两个点在featuresA, featuresB中的索引值\n",
    "            matches.append((m[0].trainIdx, m[0].queryIdx))\n",
    "        # 当筛选后的匹配对大于4时，计算视角变换矩阵\n",
    "    if len(matches) > 4:\n",
    "        # 获取匹配对的点坐标\n",
    "        ptsA = np.float32([kpsA[i] for (_, i) in matches])\n",
    "        ptsB = np.float32([kpsB[i] for (i, _) in matches])\n",
    "        # 计算视角变换矩阵\n",
    "        (H, status) = cv2.findHomography(ptsA, ptsB, cv2.RANSAC, reprojThresh)\n",
    "        # 返回结果\n",
    "        return (matches, H, status)\n",
    "    # 如果匹配对小于4时，返回None\n",
    "    return None\n",
    "def drawMatches(imageA, imageB, kpsA, kpsB, matches, status):\n",
    "    # 初始化可视化图片，将A、B图左右连接到一起\n",
    "    (hA, wA) = imageA.shape[:2]\n",
    "    (hB, wB) = imageB.shape[:2]\n",
    "    vis = np.zeros((max(hA, hB), wA + wB, 3), dtype=\"uint8\")\n",
    "    vis[0:hA, 0:wA] = imageA\n",
    "    vis[0:hB, wA:] = imageB\n",
    "    # 联合遍历，画出匹配对\n",
    "    for ((trainIdx, queryIdx), s) in zip(matches, status):\n",
    "        # 当点对匹配成功时，画到可视化图上\n",
    "        if s == 1:\n",
    "            # 画出匹配对\n",
    "            ptA = (int(kpsA[queryIdx][0]), int(kpsA[queryIdx][1]))\n",
    "            ptB = (int(kpsB[trainIdx][0]) + wA, int(kpsB[trainIdx][1]))\n",
    "            cv2.line(vis, ptA, ptB, (0, 255, 0), 1)\n",
    "    cv_show(\"drawImg\", vis)\n",
    "    cv2.imwrite(\"drawImg.jpg\",vis)\n",
    "    # 返回可视化结果\n",
    "    return vis\n",
    "def stitch(imageA,imageB, ratio=0.75, reprojThresh=4.0,showMatches=False):\n",
    "    #检测A、B图片的SIFT关键特征点，并计算特征描述子\n",
    "    (kpsA, featuresA) = detectAndDescribe(imageA)\n",
    "    (kpsB, featuresB) = detectAndDescribe(imageB)\n",
    "    # 匹配两张图片的所有特征点，返回匹配结果\n",
    "    M = matchKeypoints(kpsA, kpsB, featuresA, featuresB, ratio, reprojThresh)\n",
    "    # 如果返回结果为空，没有匹配成功的特征点，退出算法\n",
    "    if M is None:\n",
    "        return None\n",
    "    # 否则，提取匹配结果\n",
    "    # H是3x3视角变换矩阵      \n",
    "    (matches, H, status) = M\n",
    "    # 将图片A进行视角变换，result是变换后图片\n",
    "    result = cv2.warpPerspective(imageA, H, (imageA.shape[1] + imageB.shape[1], imageA.shape[0]))\n",
    "    cv_show('result', result)\n",
    "    # 将图片B传入result图片最左端\n",
    "    result[0:imageB.shape[0], 0:imageB.shape[1]] = imageB\n",
    "    cv_show('result', result)\n",
    "    # 检测是否需要显示图片匹配\n",
    "    if showMatches:\n",
    "        # 生成匹配图片\n",
    "        vis = drawMatches(imageA, imageB, kpsA, kpsB, matches, status)\n",
    "        # 返回结果\n",
    "        return (result, vis)\n",
    "    # 返回匹配结果\n",
    "    return result\n"
   ]
  },
  {
   "cell_type": "code",
   "execution_count": 2,
   "metadata": {},
   "outputs": [
    {
     "name": "stdout",
     "output_type": "stream",
     "text": [
      "[[ 1.03686536e+00  5.09785501e-02 -1.33883267e+03]\n",
      " [ 1.35746393e-02  1.03080574e+00 -9.98131415e+01]\n",
      " [ 1.20718841e-05  5.02807194e-06  1.00000000e+00]]\n"
     ]
    },
    {
     "data": {
      "text/plain": [
       "array([[[ 69,  64,  65],\n",
       "        [ 68,  63,  64],\n",
       "        [ 67,  62,  63],\n",
       "        ...,\n",
       "        [ 59,  84,  70],\n",
       "        [ 60,  83,  69],\n",
       "        [ 53,  76,  62]],\n",
       "\n",
       "       [[ 68,  63,  64],\n",
       "        [ 67,  62,  63],\n",
       "        [ 68,  63,  64],\n",
       "        ...,\n",
       "        [ 57,  82,  68],\n",
       "        [ 53,  76,  62],\n",
       "        [ 48,  71,  57]],\n",
       "\n",
       "       [[ 62,  58,  57],\n",
       "        [ 64,  59,  60],\n",
       "        [ 67,  62,  63],\n",
       "        ...,\n",
       "        [ 56,  80,  68],\n",
       "        [ 50,  75,  61],\n",
       "        [ 51,  76,  62]],\n",
       "\n",
       "       ...,\n",
       "\n",
       "       [[233, 233, 227],\n",
       "        [234, 234, 228],\n",
       "        [235, 235, 229],\n",
       "        ...,\n",
       "        [126, 138, 140],\n",
       "        [134, 143, 147],\n",
       "        [139, 148, 152]],\n",
       "\n",
       "       [[233, 234, 225],\n",
       "        [232, 233, 224],\n",
       "        [233, 231, 223],\n",
       "        ...,\n",
       "        [116, 125, 128],\n",
       "        [122, 131, 134],\n",
       "        [131, 140, 143]],\n",
       "\n",
       "       [[232, 233, 223],\n",
       "        [230, 231, 221],\n",
       "        [229, 227, 219],\n",
       "        ...,\n",
       "        [ 98, 107, 110],\n",
       "        [103, 112, 115],\n",
       "        [115, 124, 127]]], dtype=uint8)"
      ]
     },
     "execution_count": 2,
     "metadata": {},
     "output_type": "execute_result"
    }
   ],
   "source": [
    "# 读取图像\n",
    "imageA = cv2.imread('jm2.jpg')\n",
    "cv_show(\"imageA\", imageA)\n",
    "imageB = cv2.imread('jm1.jpg')\n",
    "cv_show(\"imageB\", imageB)\n",
    "# 计算SIFT特征点和特征向量\n",
    "(kpsA, featuresA) = detectAndDescribe(imageA)\n",
    "(kpsB, featuresB) = detectAndDescribe(imageB)\n",
    "# 基于最近邻和随机取样一致性得到一个单应性矩阵\n",
    "(matches,H,status) = matchKeypoints(kpsA, kpsB, featuresA, featuresB)\n",
    "print(H)\n",
    "# 绘制匹配结果\n",
    "drawMatches(imageA, imageB, kpsA, kpsB, matches, status)\n",
    "# 拼接\n",
    "\n"
   ]
  },
  {
   "cell_type": "code",
   "execution_count": 6,
   "metadata": {},
   "outputs": [],
   "source": [
    "result,vis = stitch(imageA, imageB)"
   ]
  },
  {
   "cell_type": "code",
   "execution_count": 8,
   "metadata": {},
   "outputs": [
    {
     "data": {
      "text/plain": [
       "True"
      ]
     },
     "execution_count": 8,
     "metadata": {},
     "output_type": "execute_result"
    }
   ],
   "source": [
    "cv2.imwrite('result.jpg', result)"
   ]
  }
 ],
 "metadata": {
  "kernelspec": {
   "display_name": "deepface",
   "language": "python",
   "name": "python3"
  },
  "language_info": {
   "codemirror_mode": {
    "name": "ipython",
    "version": 3
   },
   "file_extension": ".py",
   "mimetype": "text/x-python",
   "name": "python",
   "nbconvert_exporter": "python",
   "pygments_lexer": "ipython3",
   "version": "3.7.16"
  }
 },
 "nbformat": 4,
 "nbformat_minor": 2
}
